{
 "cells": [
  {
   "cell_type": "code",
   "execution_count": 1,
   "id": "5c6e4636",
   "metadata": {},
   "outputs": [
    {
     "name": "stdout",
     "output_type": "stream",
     "text": [
      "<class '__main__.Employee'>\n",
      "{'name': 'John', 'age': 30, 'position': 'Manager', '_salary': 50000, '_annual_salary': None}\n",
      "Employee with name Jane and age 25 with Developer is drawing 60000\n",
      "Employee with name John and age 30 with Manager is drawing 50000\n",
      "Employee with name John and age 30 with Manager is drawing 55000.0\n"
     ]
    }
   ],
   "source": [
    "class Employee:\n",
    "    def __init__(self, name:str, age:int, postion:str, salary:int):\n",
    "        self.name = name #Instance attributes assigned variables.\n",
    "        self.age = age\n",
    "        self.position = postion\n",
    "        # self.set_salary(salary) #Using setter method to set the salary. This method is used to set the value of the salary attribute. It checks if the salary is greater than 1000 before setting it.\n",
    "        self.salary = salary # After using property setter, we can simply assign the value to the salary \"property\" and it will call the setter method to set the value of the actual non public _salary attribute. This is a more pythonic way of doing things.\n",
    "        self._annual_salary = None #This is a protected attribute. Meant to be used with cached property.\n",
    "\n",
    "    #Instance functions also knows as Methods.\n",
    "    def increase_salary(self, percent:int):\n",
    "        self.salary += self.salary * percent / 100 #Method to increase salary by a percentage.\n",
    "    \n",
    "    #mostly used to get the string representation of the object in human readable format.\n",
    "    def __str__(self):\n",
    "        return f\"Employee with name {self.name} and age {self.age} with {self.position} is drawing {self.salary}\"\n",
    "    \n",
    "    #This method is used to get the string representation of the object in a more formal way. Usually shows how the instance was created.  Returns a string that looks like a constructor call. So you can recreate the object using the string.\n",
    "    def __repr__(self):\n",
    "        return f\"Employee({repr(self.name)}, {repr(self.age)}, {repr(self.position)}, {repr(self.salary)})\"\n",
    "    \n",
    "    #Dunder method to add two Employee objects together. This method is called when you use the + operator on two Employee objects.\n",
    "    def __add__(self, other_object):\n",
    "        return Employee(\"New\", self.age + other_object.age, \"dev\", self.salary + other_object.salary)\n",
    "    \n",
    "    #Getter and Setter methods for the instance attributes.\n",
    "    # def get_salary(self):\n",
    "    #     return f\"${self._salary}\"\n",
    "\n",
    "    #Devs find getters and setters to be a bit of anti pattern from OOPs perspective. it introduces incompatibilty in the application code using the class. places where app used employee.salary would have to now use employee.get_salary() to get the salary. So it is better to\n",
    "    #use properties to access the attributes of the instance. So you can use properties to access the attributes of the instance. So you can use @property decorator to create a property.\n",
    "    #Properties are not members of the class. They are just a way to access the attributes of the instance.\n",
    "    \n",
    "    @property #Just define this if you only want a read only property.\n",
    "    def salary(self):\n",
    "        return self._salary #Getter method to get the salary. Actually returns the non public attribute _salary.\n",
    "    \n",
    "    #Setter property method to set the salary. use the function name as the attribute name.\n",
    "    #Now, everywhere within and outside the class, when you call employee.salary=someint, the property setter method that internally assigns the non public attribute _salary using custom logic. Completely abstracting the non public attribute from the outside world.\n",
    "    @salary.setter\n",
    "    def salary(self, salary):\n",
    "        if int(salary) > 1000:\n",
    "            self._salary = salary\n",
    "            self._annual_salary = None #Reset the attribute to None so that the cached property will be recomputed next time it is accessed.\n",
    "        else:\n",
    "            raise ValueError(\"Salary must be greater than 1000\")\n",
    "        \n",
    "        \n",
    "    #Setter method to set the salary. This method is used to set the value of the salary attribute. It checks if the salary is greater than 1000 before setting it.\n",
    "    #Setter methods are useful when you want to add some validation or processing before setting the value of an attribute. But in python, we can use properties to do the same thing. So we don't need to use setter methods. But if you want to use setter methods, you can use them like this.\n",
    "    # def set_salary(self, salary):\n",
    "    #     if int(salary) > 1000:\n",
    "    #         self._salary = salary\n",
    "    #     else:\n",
    "    #         raise ValueError(\"Salary must be greater than 1000\")\n",
    "\n",
    "    #Computed property to get annual salary. Some computation happens for this property at runtime when it is called. \n",
    "    # @property\n",
    "    # def annual_salary(self):\n",
    "    #     return self.salary * 12 #Computed property to get annual salary.\n",
    "    \n",
    "    #However, what if the above computed property contains a very complex logic with dependencies to various other attributes and libraries. In that case, the computing every time when the propery is accessed can be very time consuming. \n",
    "    # So, in that case, we can use a cached property. Cached property is a property that is computed once and then cached for future access. So, the next time you access the property, it will return the cached value instead of recomputing it. This can be useful for expensive computations that don't change often..\n",
    "    \n",
    "    #Cached property implementation example. Here, we use a private attribute to store the cached value. The first time the property is accessed, it computes the value and stores it in the private attribute. The next time the property is accessed, it returns the cached value instead of recomputing it.\n",
    "    @property\n",
    "    def annual_salary(self):\n",
    "        if self._annual_salary is None: #If the annual salary is not computed yet, then compute it.\n",
    "            print(\"Computing annual salary...\")\n",
    "            self._annual_salary = self.salary * 12 #Compute the annual salary.\n",
    "        return self._annual_salary #Return the cached value.\n",
    "    \n",
    "\n",
    "\n",
    "e1 = Employee(\"John\", 30, \"Manager\", 50000) #instantiation of instances\n",
    "e2 = Employee(\"Jane\", 25, \"Developer\", 60000)\n",
    "print(e1.__class__)\n",
    "print(e1.__dict__)\n",
    "print(e2)\n",
    "\n",
    "print(e1) #Calling the method to get employee info.\n",
    "e1.increase_salary(10) #Increasing salary by 10%.\n",
    "print(e1) #Calling the method to get updated employee info."
   ]
  },
  {
   "cell_type": "code",
   "execution_count": 2,
   "id": "bfe02e1e",
   "metadata": {},
   "outputs": [
    {
     "name": "stdout",
     "output_type": "stream",
     "text": [
      "Employee with name Jane and age 25 with Developer is drawing 60000\n",
      "Employee('Jane', 25, 'Developer', 60000)\n",
      "Employee with name Jane and age 25 with Developer is drawing 60000\n"
     ]
    }
   ],
   "source": [
    "#printing the instances after writing a __str__ method. __str__ method is used to return a string representation of the object. So instead of print(e2) returning the memory address of the object, it will return the string representation of the object.\n",
    "# print(e2) #This will now print the string representation of the object. even str(e2) will return the string representation of the object.\n",
    "print(e2)\n",
    "print(repr(e2)) #This will now print the string representation of the object. even str(e2) will return the string representation of the object.\n",
    "e3 = eval(repr(e2)) #This will create a new instance of the Employee class with the same attributes as e2. eval will evaluate the object representation of the object and create a new instance of the object.\n",
    "print(e3) #This will now print the string representation of the object. even str(e3) will return the string representation of the object.\n",
    "\n",
    "#Python will fallback to __repr__ if __str__ is not defined. So if you don't define __str__, it will use __repr__ to get the string representation of the object."
   ]
  },
  {
   "cell_type": "code",
   "execution_count": 3,
   "id": "a08736f2",
   "metadata": {},
   "outputs": [
    {
     "name": "stdout",
     "output_type": "stream",
     "text": [
      "Employee with name New and age 55 with dev is drawing 115000.0\n",
      "Employee with name Derek and age 55 with Director is drawing 115000.0\n"
     ]
    }
   ],
   "source": [
    "#Dunder methods are also called magic methods. They are used to define the behavior of the object when it is used with operators. For example, if you want to add two objects together, you can define the __add__ method in the class. So when you use the + operator, it will call the __add__ method and return the result.\n",
    "# Kind of like like operator overloading in C++. So you can define the behavior of the object when it is used with operators. For example, if you want to add two objects together, you can define the __add__ method in the class. So when you use the + operator, it will call the __add__ method and return the result.\n",
    "# They are represented by double underscores before and after the method name. For example, __init__ is a dunder method. It is used to initialize the object when it is created. So when you create an instance of the class, it will call the __init__ method and initialize the object with the values passed to it.\n",
    "# Implemented a dunder method __add__ to add two objects together. So when you use the + operator, it will call the __add__ method and return the result.\n",
    "\n",
    "e4 = e1 + e2 #This will call the __add__ method and return the result. So when you use the + operator, it will call the __add__ method and return the result.\n",
    "# This invocation can also be viewed as e4 = e1.__add__(e2). e1 is the instance calling the __add__ method so it goes to the self parameter and e2 is passed as the other_object parameter.\n",
    "\n",
    "print(e4) #This will now print the string representation of the object. even str(e4) will return the string representation of the object.\n",
    "e4.name = \"Derek\"\n",
    "e4.position = \"Director\"\n",
    "#The dot notation is used to access the attributes of the object. So you can access the attributes of the object using the dot notation. So e4.name will return the name of the object. So you can change the attributes of the object using the dot notation. So e4.name = \"Derek\" will change the name of the object to Derek.\n",
    "\n",
    "print(e4) #This will now print the string representation of the object. even str(e4) will return the string representation of the object."
   ]
  },
  {
   "cell_type": "code",
   "execution_count": 4,
   "id": "4e8220d0",
   "metadata": {},
   "outputs": [],
   "source": [
    "# #Trying to set the salary too low\n",
    "\n",
    "# #e4.set_salary(500) #This will raise a ValueError because the salary is less than 1000. So you can set the salary using the setter method. So e4.set_salary(500) will raise a ValueError because the salary is less than 1000.\n",
    "# e4.set_salary(1500) #This will set the salary to 1500. So you can set the salary using the setter method. So e4.set_salary(1500) will set the salary to 1500.\n",
    "# # print(e4.get_salary())\n",
    "# print(e4) #This will now print the string representation of the object. even str(e4) will return the string representation of the object."
   ]
  },
  {
   "cell_type": "code",
   "execution_count": 5,
   "id": "10efcb6f",
   "metadata": {},
   "outputs": [
    {
     "name": "stdout",
     "output_type": "stream",
     "text": [
      "{'name': 'Jane', 'age': 25, 'position': 'Developer', '_salary': 2000, '_annual_salary': None}\n"
     ]
    }
   ],
   "source": [
    "#Using properties to access the attributes of the instance.\n",
    "\n",
    "e2.salary\n",
    "e2.salary = 2000\n",
    "\n",
    "print(e2.__dict__) #Notice the attribute is _salary and not salary. This is because \"salary\" is a property and it is using the setter method to set the value of the actual non public attribute _salary. So you can use properties to access the attributes of the instance."
   ]
  },
  {
   "cell_type": "code",
   "execution_count": null,
   "id": "5a591fde",
   "metadata": {},
   "outputs": [
    {
     "name": "stdout",
     "output_type": "stream",
     "text": [
      "Computing annual salary...\n",
      "1380000.0\n",
      "{'name': 'Derek', 'age': 55, 'position': 'Director', '_salary': 115000.0, '_annual_salary': 1380000.0}\n"
     ]
    }
   ],
   "source": [
    "#Computed properties.\n",
    "print(e4.annual_salary) #calling property and not attribute.\n",
    "\n",
    "print(e4.__dict__)"
   ]
  },
  {
   "cell_type": "code",
   "execution_count": 7,
   "id": "b7dfea5a",
   "metadata": {},
   "outputs": [],
   "source": [
    "#INHERITANCE\n",
    "\n",
    "class Employee:\n",
    "    def __init__(self, name:str, age:int, salary:int):\n",
    "        self.name = name #Instance attributes assigned variables.\n",
    "        self.age = age\n",
    "        self.salary = salary # After using property setter, we can simply assign the value to the salary \"property\" and it will call the setter method to set the value of the actual non public _salary attribute. This is a more pythonic way of doing things.\n",
    "        self._annual_salary = None #This is a protected attribute. Meant to be used with cached property.\n",
    "\n",
    "    def increase_salary(self, percent:int):\n",
    "        self.salary += self.salary * percent / 100\n",
    "\n",
    "class Tester(Employee):\n",
    "    def run_test(self):\n",
    "        print(\"Running tests...\")"
   ]
  },
  {
   "cell_type": "code",
   "execution_count": 8,
   "id": "b9589bbd",
   "metadata": {},
   "outputs": [
    {
     "name": "stdout",
     "output_type": "stream",
     "text": [
      "Running tests...\n",
      "60000.0\n"
     ]
    }
   ],
   "source": [
    "emp1 = Tester(\"John\", 30, 50000)\n",
    "emp1.increase_salary(20)\n",
    "emp1.run_test()\n",
    "print(emp1.salary) #This will now print the string representation of the object. even str(emp1) will return the string representation of the object."
   ]
  },
  {
   "cell_type": "code",
   "execution_count": null,
   "id": "900e722f",
   "metadata": {},
   "outputs": [
    {
     "name": "stdout",
     "output_type": "stream",
     "text": [
      "113000.0\n",
      "{'name': 'Jane', 'age': 25, 'salary': 113000.0, '_annual_salary': None}\n",
      "<class '__main__.Developer'>\n",
      "True\n",
      "True\n"
     ]
    }
   ],
   "source": [
    "class Developer(Employee):\n",
    "\n",
    "    #Constructor of the child class. It will call the constructor of the parent class. This is called constructor chaining.\n",
    "    def __init__(self, name, age, salary, framework):\n",
    "        super().__init__(name, age, salary)\n",
    "        self.framework = framework\n",
    "\n",
    "    #overriding the parent class method.\n",
    "    def increase_salary(self, percent, bonus:int):\n",
    "        super().increase_salary(percent)\n",
    "        self.salary += bonus\n",
    "    \n",
    "    def write_code(self):\n",
    "        print(\"Writing code...\")\n",
    "\n",
    "emp2 = Developer(\"Jane\", 25, 90000)\n",
    "emp2.increase_salary(20, 5000)\n",
    "\n",
    "print(emp2.salary)\n",
    "\n",
    "print(emp2.__dict__)\n",
    "print(emp2.__class__)\n",
    "\n",
    "print(isinstance(emp2, Employee)) #This will return True because emp2 is an instance of the Employee class. So you can use the isinstance function to check if the object is an instance of the class or not.\n",
    "print(issubclass(Developer, Employee)) #This will return True because Developer is a subclass of Employee. So you can use the issubclass function to check if the class is a subclass of the other class or not."
   ]
  },
  {
   "cell_type": "markdown",
   "id": "590efecf",
   "metadata": {},
   "source": [
    "The below is an image for the Exception Class hierarchy in Python. BaseException is the top most super class for exceptions in Python. That is why if you don't know what code your try statement would throw, catch that using the except e as BaseException statement.\n",
    "![image.png](attachment:image.png)"
   ]
  },
  {
   "cell_type": "markdown",
   "id": "17d54712",
   "metadata": {},
   "source": [
    "![image.png](attachment:image.png)"
   ]
  },
  {
   "cell_type": "code",
   "execution_count": null,
   "id": "0f345dd5",
   "metadata": {},
   "outputs": [
    {
     "name": "stdout",
     "output_type": "stream",
     "text": [
      "{'name': 'Jane', 'age': 25, 'position': 'Developer', '_salary': 60000, '_annual_salary': 720000}\n",
      "('name', 'age', 'salary', 'framework')\n"
     ]
    }
   ],
   "source": [
    "#Slots\n",
    "e3.annual_salary\n",
    "print(e3.__dict__) #As you know the instance maintains it's attributes using an internal dictionary. This is very memory consuming. \n",
    "\n",
    "#So, if you know the attributes of the class at the time of writing the class, you can use __slots__ to define the attributes of the class. \n",
    "# This will make the instance use a fixed size array instead of a dictionary to store the attributes. This will save a lot of memory and make the instance faster.\n",
    "\n",
    "class Developer:\n",
    "    __slots__ = ('name', 'age', 'salary', 'framework') #This will make the instance use a fixed size array instead of a dictionary to store the attributes. This will save a lot of memory and make the instance faster.\n",
    "    def __init__(self, name, age, salary, framework):\n",
    "        self.name = name\n",
    "        self.age = age\n",
    "        self.salary = salary\n",
    "        self.framework = framework\n",
    "\n",
    "dev1 = Developer(\"John\", 30, 50000, \"Django\")\n",
    "#print(dev1.__dict__) #This will raise an AttributeError because the instance does not have a __dict__ attribute. So you can use __slots__ to define the attributes of the class.\n",
    "print(dev1.__slots__) #This will print the slots of the instance. So you can use __slots__ to define the attributes of the class.\n",
    "\n",
    "#Analyze the tradeoffs of using slots.\n",
    "#Using slots will make the instance use a fixed size array instead of a dictionary to store the attributes. This will save a lot of memory and make the instance faster.\n",
    "#However, using slots will make the instance less flexible. You cannot add new attributes to the instance after it is created. So you have to define all the attributes of the class at the time of writing the class. This will make the instance less flexible and more rigid."
   ]
  },
  {
   "cell_type": "code",
   "execution_count": 19,
   "id": "8eb8a51c",
   "metadata": {},
   "outputs": [
    {
     "name": "stdout",
     "output_type": "stream",
     "text": [
      "True\n",
      "True\n",
      "(<class '__main__.Developer'>, <class '__main__.SlotInspectorMixin'>, <class '__main__.Employee'>, <class 'object'>)\n",
      "{}\n"
     ]
    }
   ],
   "source": [
    "#Multiple Inheritance - Inherit functionality from multiple classes. Mostly used in mixin classes.\n",
    "class Developer:\n",
    "    __slots__ = ('name', 'age', 'salary', 'framework') #This will make the instance use a fixed size array instead of a dictionary to store the attributes. This will save a lot of memory and make the instance faster.\n",
    "    def __init__(self, name, age, salary, framework):\n",
    "        self.name = name\n",
    "        self.age = age\n",
    "        self.salary = salary\n",
    "        self.framework = framework\n",
    "\n",
    "    def has_slots(self):\n",
    "        return hasattr(self, '__slots__') #hasattr is used to check if the object has the attribute or not. In this case if self has the __slots__ attribute or not.\n",
    "    \n",
    "dev1 = Developer(\"John\", 30, 50000, \"Django\")\n",
    "print(dev1.has_slots()) #This will return True because the instance has the __slots__ attribute. So you can use __slots__ to define the attributes of the class.\n",
    "\n",
    "#Now what if you want this has_slots method to be used by all classes that use slots. Sure you can put them into a parent class and inherit from it.\n",
    "# But not all classes would be child of Employee class or have any relation to it. So, we can use mixin classes to achieve this.\n",
    "# Mixin classes are classes that are used to add functionality to other classes. They are not meant to be instantiated on their own. They are just used to add functionality to other classes.\n",
    "\n",
    "class SlotInspectorMixin:\n",
    "    def has_slots(self):\n",
    "        return hasattr(self, '__slots__') #hasattr is used to check if the object has the attribute or not. In this case if self has the __slots__ attribute or not.\n",
    "    \n",
    "\n",
    "class Employee:\n",
    "    __slots__ = ('name', 'age', 'salary') #This will make the instance use a fixed size array instead of a dictionary to store the attributes. This will save a lot of memory and make the instance faster.\n",
    "    def __init__(self, name, age, salary):\n",
    "        self.name = name\n",
    "        self.age = age\n",
    "        self.salary = salary\n",
    "\n",
    "class Developer(SlotInspectorMixin, Employee): #This will make the instance use a fixed size array instead of a dictionary to store the attributes. This will save a lot of memory and make the instance faster.\n",
    "    __slots__ = ('framework',) #This will make the instance use a fixed size array instead of a dictionary to store the attributes. This will save a lot of memory and make the instance faster.\n",
    "    def __init__(self, name, age, salary, framework):\n",
    "        super().__init__(name, age, salary)\n",
    "        self.framework = framework\n",
    "\n",
    "dev1 = Developer(\"John\", 30, 50000, \"Django\")\n",
    "print(dev1.has_slots()) #This will return True because the instance has the __slots__ attribute. The mixin class has been used to add the functionality of has_slots to the Developer class.\n",
    "\n",
    "#Method Resolution Order (MRO) - The order in which the methods are resolved. This is important in multiple inheritance. Python uses C3 linearization algorithm to resolve the methods. So, it will first look for the method in the class itself, then in the parent class, then in the sibling classes and then in the grandparent classes.\n",
    "# You can use the __mro__ attribute to get the MRO of the class. So you can use the __mro__ attribute to get the MRO of the class. This will return a list of classes in the order in which they are resolved.\n",
    "\n",
    "print(Developer.__mro__) #This will return the MRO of the class. So you can use the __mro__ attribute to get the MRO of the class. This will return a list of classes in the order in which they are resolved.\n",
    "#notice now because of the mixin class having no slots, the class gets by default an empty __dict__ attribute.\n",
    "#Developer class, now inheriting from both Employee and SlotInspectorMixin, will have the __dict__ attribute.\n",
    "print(dev1.__dict__) #This will return the __dict__ attribute of the instance. So you can use the __dict__ attribute to get the __dict__ attribute of the instance."
   ]
  },
  {
   "cell_type": "code",
   "execution_count": null,
   "id": "72d9cb99",
   "metadata": {},
   "outputs": [
    {
     "name": "stdout",
     "output_type": "stream",
     "text": [
      "<class 'function'>\n",
      "<class 'type'>\n",
      "{'__module__': '__main__', '__firstlineno__': 8, '__init__': <function Employee.__init__ at 0x000001C2FFC60EA0>, 'increase_salary': <function Employee.increase_salary at 0x000001C2FFC60E00>, '__static_attributes__': ('_annual_salary', 'age', 'name', 'salary'), '__dict__': <attribute '__dict__' of 'Employee' objects>, '__weakref__': <attribute '__weakref__' of 'Employee' objects>, '__doc__': None}\n",
      "60000.0\n"
     ]
    }
   ],
   "source": [
    "#Till now we have seen class as a blueprint or factory, and mostly looked at the instance of the class.\n",
    "#But, class is also an object in python. Now we will look into the class attributes and methods.\n",
    "\n",
    "print(Developer.has_slots.__class__) #functions are also objects in python. They essentially are objects of type 'function'.\n",
    "\n",
    "print(Developer.__class__) #The class itself is an object of type 'type'.\n",
    "\n",
    "class Employee:\n",
    "    def __init__(self, name:str, age:int, salary:int):\n",
    "        self.name = name #Instance attributes assigned variables.\n",
    "        self.age = age\n",
    "        self.salary = salary # After using property setter, we can simply assign the value to the salary \"property\" and it will call the setter method to set the value of the actual non public _salary attribute. This is a more pythonic way of doing things.\n",
    "        self._annual_salary = None #This is a protected attribute. Meant to be used with cached property.\n",
    "\n",
    "    def increase_salary(self, percent:int):\n",
    "        self.salary += self.salary * percent / 100\n",
    "\n",
    "e = Employee(\"John\", 30, 50000)\n",
    "\n",
    "print(Employee.__dict__) #This will return the __dict__ attribute of the class. So you can use the __dict__ attribute to get the __dict__ attribute of the class.\n",
    "\n",
    "# The __dict__ attribute of the class contains all the attributes and methods of the class.\n",
    "# The method are also technically class attributes. They are objects of type 'function'.\n",
    "\n",
    "Employee.__dict__['increase_salary'](e, 20) #This will call the increase_salary method of the class. This substantiates that methods can be called using attributes as well.\n",
    "print(e.salary) #This will now print the string representation of the object. even str(e) will return the string representation of the object."
   ]
  },
  {
   "cell_type": "code",
   "execution_count": 41,
   "id": "0bd59301",
   "metadata": {},
   "outputs": [
    {
     "name": "stdout",
     "output_type": "stream",
     "text": [
      "1000\n",
      "1000\n",
      "{'__module__': '__main__', '__firstlineno__': 3, '__slots__': ('name', 'age', '_salary', '_annual_salary'), 'min_salary': 1000, 'update_min_salary': <classmethod(<function Employee.update_min_salary at 0x000001C2FFF5C040>)>, 'new_employee': <classmethod(<function Employee.new_employee at 0x000001C2FFF5E160>)>, '__init__': <function Employee.__init__ at 0x000001C2FFF5E200>, 'increase_salary': <function Employee.increase_salary at 0x000001C2FFF5E2A0>, 'salary': <property object at 0x000001C2FFF85210>, '__static_attributes__': ('_annual_salary', '_salary', 'age', 'name', 'salary'), '_annual_salary': <member '_annual_salary' of 'Employee' objects>, '_salary': <member '_salary' of 'Employee' objects>, 'age': <member 'age' of 'Employee' objects>, 'name': <member 'name' of 'Employee' objects>, '__doc__': None}\n",
      "('name', 'age', '_salary', '_annual_salary')\n",
      "35\n"
     ]
    },
    {
     "data": {
      "text/plain": [
       "<__main__.Employee at 0x1c2ffddef80>"
      ]
     },
     "execution_count": 41,
     "metadata": {},
     "output_type": "execute_result"
    }
   ],
   "source": [
    "#But is it possible to define an attribute that just belongs to the class and not the instance. Yes, we can do that using class attributes.\n",
    "from datetime import datetime, date\n",
    "class Employee:\n",
    "    __slots__ = ('name', 'age', '_salary', '_annual_salary') # Slots itself is a class attribute. It is used to define the attributes of the class. So you can use __slots__ to define the attributes of the class.\n",
    "    #You can also use class attributes to define some constants that could be common for all employee objects.\n",
    "    min_salary = 1000 #This is a class attribute. It is shared by all instances of the class. So you can use class attributes to define some constants that could be common for all employee objects.\n",
    "\n",
    "    @classmethod\n",
    "    def update_min_salary(cls, new_min_salary:int):\n",
    "        if new_min_salary > 3000:\n",
    "            raise ValueError(\"Minimum salary cannot be greater than 3000\")\n",
    "        else:\n",
    "            cls.min_salary = new_min_salary\n",
    "\n",
    "    #Class method are also very useful to create factory functions, these functions are also called alternative constructors. They are used to create instances of the class using different parameters.\n",
    "    @classmethod\n",
    "    def new_employee(cls, name:str, dob:datetime):\n",
    "        age = datetime.now().year - dob.year\n",
    "        return cls(name, age, 1000) #Starting salary of each employee in 1000. Cls(name, age, 1000) will call the constructor of the class and create a new instance of the class. So you can use class methods to create instances of the class using different parameters. This is called factory method pattern.\n",
    "\n",
    "    def __init__(self, name:str, age:int, salary:int):\n",
    "        self.name = name #Instance attributes assigned variables.\n",
    "        self.age = age\n",
    "        self.salary = salary # After using property setter, we can simply assign the value to the salary \"property\" and it will call the setter method to set the value of the actual non public _salary attribute. This is a more pythonic way of doing things.\n",
    "        self._annual_salary = None #This is a protected attribute. Meant to be used with cached property.\n",
    "\n",
    "    def increase_salary(self, percent:int):\n",
    "        self.salary += self.salary * percent / 100\n",
    "\n",
    "    #Increase salary is also a bit redundant to be defined for each instance. So we can define it as a class method.\n",
    "\n",
    "\n",
    "    @property\n",
    "    def salary(self):\n",
    "        return self._salary\n",
    "    \n",
    "    @salary.setter\n",
    "    def salary(self, salary):\n",
    "        if int(salary) > Employee.min_salary: #Using the class attribute min_salary to check if the salary is greater than 1000.\n",
    "            self._salary = salary\n",
    "            self._annual_salary = None #Reset the attribute to None so that the cached property will be recomputed next time it is accessed.\n",
    "        else:\n",
    "            raise ValueError(\"Salary must be greater than 1000\")\n",
    "        \n",
    "e = Employee(\"John\", 30, 50000)\n",
    "print(e.min_salary) #This will return the class attribute min_salary.\n",
    "#Even instance can access class attributes. This is because of the attribute lookup chain.\n",
    "#It means that the instance will first look for the attribute in it's own __dict__ and then in the class __dict__ and then in the parent class __dict__ and so on.\n",
    "print(Employee.min_salary) #This will return the class attribute min_salary.\n",
    "\n",
    "print(Employee.__dict__)\n",
    "print(e.__slots__)\n",
    "\n",
    "Employee.update_min_salary(200) #This will update the class attribute min_salary. So you can use class methods to update the class attributes. This is called class method.\n",
    "\n",
    "#Using the factory method, we created another way to creating object where we can pass the date of birth and the class will calculate the age for us.\n",
    "#This is very powerful and useful when you want to create instances of the class using different parameters. This is called factory method pattern.\n",
    "e = Employee.new_employee(\"John\", date(1990, 1, 1))\n",
    "\n",
    "print(e.age)\n",
    "e.new_employee(\"John\", date(1990, 1, 1)) #This will create a new instance of the class using the factory method. So you can use class methods to create instances of the class using different parameters. This is called factory method pattern."
   ]
  },
  {
   "cell_type": "code",
   "execution_count": null,
   "id": "2c1c2bc8",
   "metadata": {},
   "outputs": [
    {
     "name": "stdout",
     "output_type": "stream",
     "text": [
      "Project(name='DjangoApp', payment=20000, client='Globemantics')\n",
      "Project(name='DjangoApp', payment=20000, client='Globemantics')\n"
     ]
    }
   ],
   "source": [
    "#Data Classes\n",
    "\n",
    "class Project:\n",
    "    def __init__(self, name:str, payment:int, client:str):\n",
    "        self.name = name\n",
    "        self.payment = payment\n",
    "        self.client = client\n",
    "\n",
    "    def __repr__(self):\n",
    "        return f\"Project(name={repr(self.name)}, payment={repr(self.payment)}, client={repr(self.client)})\"\n",
    "    \n",
    "class Employee:\n",
    "    def __init__(self, name:str, age:int, salary:int, project:Project):\n",
    "        self.name = name #Instance attributes assigned variables.\n",
    "        self.age = age\n",
    "        self.salary = salary\n",
    "        self._annual_salary = None\n",
    "        self.project = project #Project instance is an attribute of the Employee. This is called composition. Composition is a way to create complex objects by combining simpler objects. So you can use composition to create complex objects by combining simpler objects. So you can use composition to create complex objects by combining simpler objects.\n",
    "        #This is a has-a relationship with the object, unlike Inheritance that solves is-a relationship. It is sometimes better than inheritance. Inheritance is a language feature, while Composition is a design choice.\n",
    "\n",
    "        \n",
    "p = Project(\"DjangoApp\", 20000, \"Globemantics\")\n",
    "e1 = Employee(\"John\", 30, 50000, p)\n",
    "print(e1.project) #This will print the project instance. So you can use composition to create complex objects by combining simpler objects. So you can use composition to create complex objects by combining simpler objects. So you can use composition to create complex objects by combining simpler objects.\n",
    "\n",
    "#Now if you look at the Project class, it is a simple class with no methods and just attributes. Why to write so much boilerplate code like __init__ method and repr method. So, we can use data classes to create this class. \n",
    "# Data classes are a way to create classes that are just used to store data. They are not meant to be used as regular classes.\n",
    "\n",
    "from dataclasses import dataclass #dataclass decorator\n",
    "\n",
    "@dataclass(Slots=True) #This will create a data class. This will create a class with the same attributes as the class defined above. So you can use data classes to create classes that are just used to store data. They are not meant to be used as regular classes.\n",
    "class Project: #After python 3.10, you can have slots=True in the dataclass decorator\n",
    "    name:str\n",
    "    payment:int\n",
    "    client:str\n",
    "\n",
    "    #Data classes can also have methods, just like a regular class. This is useful to wrap certain trivial logic around data stored inside the data class.\n",
    "    def notifying_client(self):\n",
    "        print(f\"Notifying client {self.client} about the project {self.name} with payment {self.payment}\")\n",
    "\n",
    "class Employee:\n",
    "    def __init__(self, name:str, age:int, salary:int, project:Project):\n",
    "        self.name = name #Instance attributes assigned variables.\n",
    "        self.age = age\n",
    "        self.salary = salary\n",
    "        self._annual_salary = None\n",
    "        self.project = project #Project instance is an attribute of the Employee. This is called composition. Composition is a way to create complex objects by combining simpler objects. So you can use composition to create complex objects by combining simpler objects. So you can use composition to create complex objects by combining simpler objects.\n",
    "        #This is a has-a relationship with the object, unlike Inheritance that solves is-a relationship. It is sometimes better than inheritance. Inheritance is a language feature, while Composition is a design choice.\n",
    "\n",
    "p = Project(\"DjangoApp\", 20000, \"Globemantics\")\n",
    "e1 = Employee(\"John\", 30, 50000, p)\n",
    "print(e1.project) #This will print the project instance. So you can use composition to create complex objects by combining simpler objects. So you can use composition to create complex objects by combining simpler objects. So you can use composition to create complex objects by combining simpler objects."
   ]
  },
  {
   "cell_type": "code",
   "execution_count": null,
   "id": "c182becf",
   "metadata": {},
   "outputs": [],
   "source": [
    "#Typing - While Python is a dynamically typed language, it is also a strongly typed language. This means that you can use type hints to specify the types of the attributes and methods of the class. This is called type hinting. Type hinting is a way to specify the types of the attributes and methods of the class.\n",
    "\n"
   ]
  }
 ],
 "metadata": {
  "kernelspec": {
   "display_name": ".venv",
   "language": "python",
   "name": "python3"
  },
  "language_info": {
   "codemirror_mode": {
    "name": "ipython",
    "version": 3
   },
   "file_extension": ".py",
   "mimetype": "text/x-python",
   "name": "python",
   "nbconvert_exporter": "python",
   "pygments_lexer": "ipython3",
   "version": "3.13.3"
  }
 },
 "nbformat": 4,
 "nbformat_minor": 5
}
