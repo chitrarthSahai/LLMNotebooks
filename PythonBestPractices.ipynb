{
 "cells": [
  {
   "cell_type": "code",
   "execution_count": 1,
   "id": "dbcdb4fc",
   "metadata": {},
   "outputs": [],
   "source": [
    "#PEP 8 style guidelines\n",
    "\n",
    "#PEP - Python Enhancement Proposals\n",
    "\n",
    "#PEP 8 is about style, not about program correctness - Is your code readable, does it follow certain standards of wruiting code, is it same lole other developers.\n",
    "\n",
    "#Formatting - Layout and comments\n",
    "#Whitespacing/Punctuation - Indentation,\n",
    "#Naming- classes and variables\n",
    "\n",
    "#A Foolish consistency is the Hobgoblin of Foolish Minds - Ralph Everton"
   ]
  },
  {
   "cell_type": "code",
   "execution_count": 2,
   "id": "f4037802",
   "metadata": {},
   "outputs": [],
   "source": [
    "#Imports should be on seperate lines\n",
    "#imports should be in 3 groups - Standard library, Third party libraries, local imports\n",
    "\n",
    "#Unlike a lot of legacy languages, Python is not a statically typed language. \n",
    "# That means you don't have to set types of variables, arguments, function return types and classes in Python.\n",
    "# This results in type mismatch errors happening only during runtime. Statically typed language can determine errors during compile time.\n",
    "# It is debatable that Python needs to be statically typed or not. \n",
    "\n",
    "#Type hints\n",
    "#          Argument Type   Return Type\n",
    "def add(a: int, b:int) -> float:\n",
    "    return a + b\n",
    "\n",
    "z: list[int] \n",
    "\n",
    "z = [1, 2, 3, 'test'] #annotations in a list defines the type hint, 'test' would throw a warning\n",
    "\n",
    "y: set[int] = {2, 3}\n",
    "\n",
    "x: dict[str, int] = {'age': 1} #str key and int values.\n",
    "\n",
    "w: tuple[int,...] = (1, 2, 3) #Tuple with numerous integer values.\n",
    "\n",
    "#you can also specify multiple types of values.\n",
    "\n",
    "x: list[int | str]= [3, 4, 'test'] #This says values can be either a int or string.\n",
    "x: list[int | None]= [] # Values can be none or integer\n",
    "\n",
    "#Before version 3.10, you had to import the typing module to use the built int collection types.\n",
    "#Also use Union and Optional to determine optional types.\n",
    "#list[Any] Any is used to define when you would set type inference to any datatype possible.\n",
    "\n",
    "# Some types are not classes, example Union. Union like [str | int] means it can have either string or integer values or both.\n",
    "# optional is a union with 'None'. [str | None]\n",
    "\n"
   ]
  },
  {
   "cell_type": "code",
   "execution_count": null,
   "id": "38f7d7e8",
   "metadata": {},
   "outputs": [],
   "source": [
    "#Duck Typing and MyPy\n",
    "# Duck Typing in python is based on the principle \"If it walks like a Duck, or quacks like a Duck. Then It must be a Duck\".\n",
    "\n",
    "def sqrt(sq: list[float]) -> list[float]:\n",
    "    return [x**0.5 for x in sq] #All python cards about is that sq is a iterable, you can even pass a tuple instead of a list and it wpuld work. All it needs is that some collection that returns number.\n",
    "\n",
    "sqrt(range(100)) #this would fail because range function gives range object and not actual iterables.\n",
    "\n",
    "#Similarly MyPy is a typing module that defines type inference and hinting.\n",
    "# iterables are the best examples of duck typing. in built collections like Lists, Tuples, etc. all have an __iter__ function, however they don't share class hierarichy (except object class).\n",
    "# Hence they can be passed interchangably wherever required.\n",
    "# The essence of duck typing is that we don't care what your class is, all we care are what methods you support.\n",
    "# If you class contains an implementation of __contains__(), then the 'in' operator would work on it. If it is __iter__(), the it can be passed toa for loop.\n",
    "\n",
    "#MyPy is a command line type checker, and works on the standard python type implementations.\n"
   ]
  }
 ],
 "metadata": {
  "kernelspec": {
   "display_name": ".venv",
   "language": "python",
   "name": "python3"
  },
  "language_info": {
   "codemirror_mode": {
    "name": "ipython",
    "version": 3
   },
   "file_extension": ".py",
   "mimetype": "text/x-python",
   "name": "python",
   "nbconvert_exporter": "python",
   "pygments_lexer": "ipython3",
   "version": "3.13.3"
  }
 },
 "nbformat": 4,
 "nbformat_minor": 5
}
