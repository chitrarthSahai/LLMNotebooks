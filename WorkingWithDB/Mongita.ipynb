{
 "cells": [
  {
   "cell_type": "code",
   "execution_count": 1,
   "id": "8e64fe11",
   "metadata": {},
   "outputs": [],
   "source": [
    "#We will now look at another popular type of database whichc is NoSQL.\n",
    "\n",
    "#Mongita is a file based NoSQL database.\n",
    "\n",
    "#SQL vs NoSQL\n",
    "\n",
    "#NoSQL Database are not an competition or alternative to SQL database. There are somethings that SQL database does better while there some things that NoSQL databases does better.\n",
    "# In the real world NoSQL databases compliment SQL databases and provide a complete solution for data management and persistance requirements.\n",
    "# Some NoSQL databases also use SQL as query language.\n",
    "\n",
    "#What is NoSQL database?\n",
    "# Traditional relational databases as we've seen, uses tabular data structures with common keys creating a relation between them. \n",
    "# On the other hand NoSQL databases can be of various types.\n",
    "# MongoDB -  Document type to store data\n",
    "# Cassandra - Column oriented, i.e., it stores columns to store data instead of conventional rows.\n",
    "# Redis - Key Value pair cached in memory, extemely fast to query and update.\n",
    "# Neo4j -  Graph Databaase. Nodes with data and edges with relationships\n",
    "\n",
    "#Basic concepts of MongoDb.\n",
    "\n",
    "# A database is a group of collections\n",
    "# A collection is a group of documents.\n",
    "# A document stores data (conceptually) in JSON, actually stored in BSON (Binary).\n",
    "\n",
    "#Mongo DB document is schemaless. That means it does not care if a document in a collection have the same structure or not. Unlike SQL databases which have columns that every row needs to fill.\n",
    "\n"
   ]
  },
  {
   "cell_type": "code",
   "execution_count": 2,
   "id": "0ccf7605",
   "metadata": {},
   "outputs": [
    {
     "name": "stdout",
     "output_type": "stream",
     "text": [
      "Collecting mongita\n",
      "  Downloading mongita-1.2.0.tar.gz (54 kB)\n",
      "  Installing build dependencies: started\n",
      "  Installing build dependencies: finished with status 'done'\n",
      "  Getting requirements to build wheel: started\n",
      "  Getting requirements to build wheel: finished with status 'done'\n",
      "  Preparing metadata (pyproject.toml): started\n",
      "  Preparing metadata (pyproject.toml): finished with status 'done'\n",
      "Collecting pymongo<5.0,>=3.0 (from mongita)\n",
      "  Downloading pymongo-4.13.0-cp313-cp313-win_amd64.whl.metadata (22 kB)\n",
      "Collecting sortedcontainers<3.0,>=2.3 (from mongita)\n",
      "  Downloading sortedcontainers-2.4.0-py2.py3-none-any.whl.metadata (10 kB)\n",
      "Collecting dnspython<3.0.0,>=1.16.0 (from pymongo<5.0,>=3.0->mongita)\n",
      "  Downloading dnspython-2.7.0-py3-none-any.whl.metadata (5.8 kB)\n",
      "Downloading pymongo-4.13.0-cp313-cp313-win_amd64.whl (949 kB)\n",
      "   ---------------------------------------- 0.0/949.4 kB ? eta -:--:--\n",
      "   --------------------------------------- 949.4/949.4 kB 45.1 MB/s eta 0:00:00\n",
      "Downloading dnspython-2.7.0-py3-none-any.whl (313 kB)\n",
      "Downloading sortedcontainers-2.4.0-py2.py3-none-any.whl (29 kB)\n",
      "Building wheels for collected packages: mongita\n",
      "  Building wheel for mongita (pyproject.toml): started\n",
      "  Building wheel for mongita (pyproject.toml): finished with status 'done'\n",
      "  Created wheel for mongita: filename=mongita-1.2.0-py3-none-any.whl size=61386 sha256=3486f224ca378f33c6e95e3fc5fbdf7010d6b439fb4021c4452ca056cb057cb4\n",
      "  Stored in directory: c:\\users\\adminuser\\appdata\\local\\pip\\cache\\wheels\\d9\\68\\e4\\98c564b08c1290c65bfd8f6b13d8599ef33b4f53e6671e5b1d\n",
      "Successfully built mongita\n",
      "Installing collected packages: sortedcontainers, dnspython, pymongo, mongita\n",
      "\n",
      "   ---------- ----------------------------- 1/4 [dnspython]\n",
      "   ---------- ----------------------------- 1/4 [dnspython]\n",
      "   ---------- ----------------------------- 1/4 [dnspython]\n",
      "   ---------- ----------------------------- 1/4 [dnspython]\n",
      "   ---------- ----------------------------- 1/4 [dnspython]\n",
      "   ---------- ----------------------------- 1/4 [dnspython]\n",
      "   ---------- ----------------------------- 1/4 [dnspython]\n",
      "   ---------- ----------------------------- 1/4 [dnspython]\n",
      "   ---------- ----------------------------- 1/4 [dnspython]\n",
      "   ---------- ----------------------------- 1/4 [dnspython]\n",
      "   ---------- ----------------------------- 1/4 [dnspython]\n",
      "   ---------- ----------------------------- 1/4 [dnspython]\n",
      "   ---------- ----------------------------- 1/4 [dnspython]\n",
      "   -------------------- ------------------- 2/4 [pymongo]\n",
      "   -------------------- ------------------- 2/4 [pymongo]\n",
      "   -------------------- ------------------- 2/4 [pymongo]\n",
      "   -------------------- ------------------- 2/4 [pymongo]\n",
      "   -------------------- ------------------- 2/4 [pymongo]\n",
      "   -------------------- ------------------- 2/4 [pymongo]\n",
      "   -------------------- ------------------- 2/4 [pymongo]\n",
      "   -------------------- ------------------- 2/4 [pymongo]\n",
      "   -------------------- ------------------- 2/4 [pymongo]\n",
      "   -------------------- ------------------- 2/4 [pymongo]\n",
      "   -------------------- ------------------- 2/4 [pymongo]\n",
      "   -------------------- ------------------- 2/4 [pymongo]\n",
      "   -------------------- ------------------- 2/4 [pymongo]\n",
      "   -------------------- ------------------- 2/4 [pymongo]\n",
      "   -------------------- ------------------- 2/4 [pymongo]\n",
      "   -------------------- ------------------- 2/4 [pymongo]\n",
      "   -------------------- ------------------- 2/4 [pymongo]\n",
      "   ------------------------------ --------- 3/4 [mongita]\n",
      "   ---------------------------------------- 4/4 [mongita]\n",
      "\n",
      "Successfully installed dnspython-2.7.0 mongita-1.2.0 pymongo-4.13.0 sortedcontainers-2.4.0\n",
      "Note: you may need to restart the kernel to use updated packages.\n"
     ]
    }
   ],
   "source": [
    "#Just as SQLite is a file based loal database for a SQL relational database.\n",
    "#Mongita is a file based NoSQL Database based on MongoDB\n",
    "\n",
    "#SQLLite is the database specification that works with sqlite command line or sqlite3 package in python. \n",
    "# Mongita on the other hand is python package that implements a subset of the pymongo api. Pymongo is the complete MongoDB api and offical packagge for mongodb\n",
    "\n",
    "# Just like SQLite, mongoita is used as an embedded database and is also used for unit testing code.\n",
    "\n",
    "#Install mongita\n",
    "%pip install mongita"
   ]
  },
  {
   "cell_type": "code",
   "execution_count": 5,
   "id": "f1ea7481",
   "metadata": {},
   "outputs": [
    {
     "data": {
      "text/plain": [
       "<mongita.results.InsertManyResult at 0x214fa78c830>"
      ]
     },
     "execution_count": 5,
     "metadata": {},
     "output_type": "execute_result"
    }
   ],
   "source": [
    "from mongita import MongitaClientDisk\n",
    "\n",
    "#Initialize a mongita client, which in every way should also work with pymongo api for mongodb\n",
    "client = MongitaClientDisk()\n",
    "\n",
    "#The database is a dynamic attribute of the client\n",
    "db = client.portfolio #get or create the portfolio database\n",
    "\n",
    "#The collections are dynamic attributes of the the database.\n",
    "investments = db.investments #get or create a collection.\n",
    "\n",
    "#Adding an entry to the collection, using the inster_one function.\n",
    "investments.insert_one({ #Remember that documents in mongodb are nothing but JSON entries, and JSON, structurally and syntactically are similar to Python objects\n",
    "    \"coin_id\": \"bitcoin\",\n",
    "    \"currency\": \"USD\",\n",
    "    \"amount\": 1.0\n",
    "}) #there was no need to define any schema beforehand, you can input any data, as long as it is a valid python dictionary.\n",
    "\n",
    "#insert many entries into the collection.\n",
    "investments.insert_many([\n",
    "    {\"coin_id\": \"ethereum\", \"currency\": \"USD\", \"amount\": 10.0},\n",
    "    {\"coin_id\": \"solana\", \"currency\": \"USD\", \"amount\": 25.0}\n",
    "])"
   ]
  },
  {
   "cell_type": "code",
   "execution_count": 21,
   "id": "e9d72a5e",
   "metadata": {},
   "outputs": [
    {
     "name": "stdout",
     "output_type": "stream",
     "text": [
      "{'_id': ObjectId('684482c32985e8e5d15b3ba2'), 'coin_id': 'bitcoin', 'currency': 'USD', 'amount': 1.6000000000000005}\n",
      "{'_id': ObjectId('684482d02985e8e5d15b3ba5'), 'coin_id': 'bitcoin', 'currency': 'USD', 'amount': 1.6000000000000005}\n",
      "{'coin_id': 'bitcoin', 'currency': 'USD', 'amount': 1.6000000000000005, '_id': ObjectId('684483022985e8e5d15b3ba6')}\n",
      "--------------------------------------------\n",
      "{'_id': ObjectId('684482c32985e8e5d15b3ba2'), 'coin_id': 'bitcoin', 'currency': 'USD', 'amount': 1.6000000000000005}\n",
      "--------------------------------------------\n",
      "bitcoin\n",
      "bitcoin\n",
      "bitcoin\n",
      "solana\n"
     ]
    },
    {
     "data": {
      "text/plain": [
       "[None, None, None, None]"
      ]
     },
     "execution_count": 21,
     "metadata": {},
     "output_type": "execute_result"
    }
   ],
   "source": [
    "#get all documents with a coin_id of bitcoin\n",
    "\n",
    "bitcoin_investments = investments.find({\"coin_id\": \"bitcoin\"}) #Key point to note here is the filter that the find() took was again a document, whcih is a python object, we did not have to write SQL queries.\n",
    "[print(investment) for investment in bitcoin_investments]\n",
    "print(\"--------------------------------------------\")\n",
    "#get first document in the collection matching the filter\n",
    "bitcoin_investments = investments.find_one({\"coin_id\": \"bitcoin\"})\n",
    "print(bitcoin_investments)\n",
    "print(\"--------------------------------------------\")\n",
    "#Get all documents in the collection\n",
    "bitcoin_investments = investments.find({}) # empty filter results in an all documents\n",
    "[print(investment[\"coin_id\"]) for investment in bitcoin_investments]"
   ]
  },
  {
   "cell_type": "code",
   "execution_count": null,
   "id": "657feda0",
   "metadata": {},
   "outputs": [
    {
     "name": "stdout",
     "output_type": "stream",
     "text": [
      "{'_id': ObjectId('684482c32985e8e5d15b3ba2'), 'coin_id': 'bitcoin', 'currency': 'USD', 'amount': 1.6000000000000005}\n",
      "{'_id': ObjectId('684482d02985e8e5d15b3ba5'), 'coin_id': 'bitcoin', 'currency': 'USD', 'amount': 1.6000000000000005}\n",
      "{'coin_id': 'bitcoin', 'currency': 'USD', 'amount': 1.6000000000000005, '_id': ObjectId('684483022985e8e5d15b3ba6')}\n",
      "{'coin_id': 'solana', 'currency': 'USD', 'amount': 25.0, '_id': ObjectId('684483022985e8e5d15b3ba8')}\n",
      "--------------------------------------------\n"
     ]
    },
    {
     "ename": "NameError",
     "evalue": "name 'coin_id' is not defined",
     "output_type": "error",
     "traceback": [
      "\u001b[31m---------------------------------------------------------------------------\u001b[39m",
      "\u001b[31mNameError\u001b[39m                                 Traceback (most recent call last)",
      "\u001b[36mCell\u001b[39m\u001b[36m \u001b[39m\u001b[32mIn[19]\u001b[39m\u001b[32m, line 14\u001b[39m\n\u001b[32m     12\u001b[39m \u001b[38;5;66;03m#Delete document\u001b[39;00m\n\u001b[32m     13\u001b[39m deletes = investments.delete_one({\u001b[33m\"\u001b[39m\u001b[33mcoin_id\u001b[39m\u001b[33m\"\u001b[39m: \u001b[33m\"\u001b[39m\u001b[33methereum\u001b[39m\u001b[33m\"\u001b[39m})\n\u001b[32m---> \u001b[39m\u001b[32m14\u001b[39m [\u001b[38;5;28mprint\u001b[39m(investment[\u001b[43mcoin_id\u001b[49m]) \u001b[38;5;28;01mfor\u001b[39;00m investment \u001b[38;5;129;01min\u001b[39;00m investments.find({})]\n",
      "\u001b[31mNameError\u001b[39m: name 'coin_id' is not defined"
     ]
    }
   ],
   "source": [
    "#Updating records\n",
    "\n",
    "# Increment amount of each bitcoin entry by 0.1\n",
    "updates = investments.update_many( #Just like insert, update has two methods update_one and update_many\n",
    "    {\"coin_id\": \"bitcoin\"}, #The filter document to find the entries\n",
    "    {\"$inc\": {\"amount\": 0.1}}    # The $inc is an increment operator that applies the {\"amount\": 0.1} document on the documents fildtered by the filter document.\n",
    ")\n",
    "[print(investment) for investment in investments.find({})]\n",
    "\n",
    "print(\"--------------------------------------------\")\n",
    "\n",
    "#Delete document\n",
    "deletes = investments.delete_one({\"coin_id\": \"ethereum\"})\n",
    "[print(investment.) for investment in investments.find({})]\n"
   ]
  },
  {
   "cell_type": "code",
   "execution_count": null,
   "id": "7d2496b3",
   "metadata": {},
   "outputs": [
    {
     "name": "stdout",
     "output_type": "stream",
     "text": [
      "The price of ethereum is 2520.52 USD\n",
      "Added buy of 1.0 bitcoin\n",
      "Added sell of 0.5 bitcoin\n",
      "You own a total of 2.0 bitcoin worth 18150686.0 INR\n",
      "{'_id': ObjectId('684499c52985e8e5d15b3bae'), 'coin_id': 'bitcoin', 'currency': 'inr', 'amount': 1.0, 'sell': 'False'}\n",
      "{'_id': ObjectId('684499c52985e8e5d15b3baf'), 'coin_id': 'bitcoin', 'currency': 'inr', 'amount': 0.5, 'sell': 'True'}\n",
      "{'_id': ObjectId('684499d22985e8e5d15b3bb0'), 'coin_id': 'bitcoin', 'currency': 'inr', 'amount': 1.0, 'sell': 'False'}\n",
      "{'_id': ObjectId('684499d22985e8e5d15b3bb1'), 'coin_id': 'bitcoin', 'currency': 'inr', 'amount': 0.5, 'sell': 'True'}\n",
      "{'_id': ObjectId('684499dd2985e8e5d15b3bb2'), 'coin_id': 'bitcoin', 'currency': 'inr', 'amount': 1.0, 'sell': 'False'}\n",
      "{'_id': ObjectId('684499dd2985e8e5d15b3bb3'), 'coin_id': 'bitcoin', 'currency': 'inr', 'amount': 0.5, 'sell': 'True'}\n",
      "{'coin_id': 'bitcoin', 'currency': 'inr', 'amount': 1.0, 'sell': 'False', '_id': ObjectId('68449cef2985e8e5d15b3bb4')}\n",
      "{'coin_id': 'bitcoin', 'currency': 'inr', 'amount': 0.5, 'sell': 'True', '_id': ObjectId('68449cef2985e8e5d15b3bb5')}\n"
     ]
    }
   ],
   "source": [
    "#Mongita implementation of the crypto investment manager app.\n",
    "\n",
    "import requests\n",
    "import click\n",
    "from mongita import MongitaClientDisk\n",
    "\n",
    "api_key = \"CG-YgaSDYyvsiDQsZvTB8KNjJcR\"\n",
    "\n",
    "headers = {\n",
    "    \"x-cg-demo-api-key\": api_key\n",
    "}\n",
    "\n",
    "\n",
    "# Establish database connection\n",
    "client = MongitaClientDisk()\n",
    "database = client.new_portfolio\n",
    "investments = database.investments\n",
    "\n",
    "\n",
    "#CLick is the pythonic way to create a command line interface for your scripts or application. It's smart and easy to use and creates arguments automatically for the decorators defined.\n",
    "# Under the hood it has a CLI API that has a commandline parser that talks with the interpreter than works completely different than optparse or argparse built in libraries. It gives you easy ways to create highly nested and complex commands with options.\n",
    "# CLick also provides out of the box support for reading env variables form values and lazy loading and file handling.\n",
    "# You transform methods into click commands using decorators.\n",
    "\n",
    "#Create a command group, a group can have multiple commands assocated with it. The group name will the function name\n",
    "@click.group()\n",
    "def cli():\n",
    "    pass\n",
    "\n",
    "def get_coin_price(coin_id, currency):\n",
    "    url = f\"https://api.coingecko.com/api/v3/simple/price?ids={coin_id}&vs_currencies={currency}\"\n",
    "    data = requests.get(url, headers=headers).json()\n",
    "    return data[coin_id][currency]\n",
    "\n",
    "@cli.command() #Command decorator that aslo assigns this command to the group.\n",
    "@click.option(\"--coin_id\", default=\"bitcoin\") #Adding an option\n",
    "@click.option(\"--currency\", default=\"usd\")\n",
    "def get_investment_value(coin_id, currency): #the option name gets passed onto the function parameter name. Then the function uses iut wthin the code.\n",
    "    coin_price = get_coin_price(coin_id, currency)\n",
    "    filter_doc_buy = {\n",
    "        \"coin_id\": coin_id,\n",
    "        \"currency\": currency,\n",
    "        \"sell\": \"False\"\n",
    "    }\n",
    "    filter_doc_sell = {\n",
    "        \"coin_id\": coin_id,\n",
    "        \"currency\": currency,\n",
    "        \"sell\": \"True\"\n",
    "    }\n",
    "    buy_result = investments.find(filter_doc_buy)\n",
    "    sell_result = investments.find(filter_doc_sell)\n",
    "    \n",
    "    buy_amount = sum(row[\"amount\"] for row in buy_result) \n",
    "    sell_amount = sum(row[\"amount\"] for row in sell_result)\n",
    "    \n",
    "    total = buy_amount - sell_amount\n",
    "    \n",
    "    print(f\"You own a total of {total} {coin_id} worth {total * coin_price} {currency.upper()}\")\n",
    "\n",
    "@cli.command()\n",
    "@click.option(\"--coin_id\", default=\"bitcoin\")\n",
    "@click.option(\"--currency\", default=\"usd\")\n",
    "def show_coin_price(coin_id, currency):\n",
    "    coin_price = get_coin_price(coin_id, currency)\n",
    "    print(f\"The price of {coin_id} is {coin_price:.2f} {currency.upper()}\")\n",
    "    \n",
    "@cli.command()\n",
    "@click.option(\"--coin_id\")\n",
    "@click.option(\"--currency\")\n",
    "@click.option(\"--amount\", type=float)\n",
    "@click.option(\"--sell\", is_flag=True)\n",
    "def add_investments(coin_id, currency, amount, sell):\n",
    "    try:\n",
    "        # sql = \"INSERT INTO investments (coin_id, currency, amount, sell, date) VALUES (?, ?, ?, ?, ?);\"\n",
    "        investments.insert_one({\n",
    "            \"coin_id\": coin_id,\n",
    "            \"currency\": currency,\n",
    "            \"amount\": amount,\n",
    "            \"sell\": f\"{True if sell else False}\"\n",
    "        })\n",
    "        print(f\"Added {'sell' if sell else 'buy'} of {amount} {coin_id}\")\n",
    "    except Exception as e:\n",
    "        print(f\"An error occurred: {e}\")\n",
    "        \n",
    "@cli.command()\n",
    "def show_db():\n",
    "    results = investments.find({})\n",
    "    [print(result) for result  in results]\n",
    "\n",
    "# Function to run commands in Jupyter\n",
    "def run_command(command, *args):\n",
    "    try:\n",
    "        cli.main(args=[command] + list(args), standalone_mode=False)\n",
    "    except SystemExit:\n",
    "        pass\n",
    "\n",
    "# Example usage in Jupyter\n",
    "run_command('show-coin-price', '--coin_id', 'ethereum', '--currency', 'usd')\n",
    "run_command('add-investments', '--coin_id', 'bitcoin', '--currency', 'inr', '--amount', '1.0')\n",
    "#selling some btc\n",
    "run_command('add-investments', '--coin_id', 'bitcoin', '--currency', 'inr', '--amount', '0.5', '--sell')\n",
    "\n",
    "#Getting investment value\n",
    "run_command('get-investment-value', '--coin_id', 'bitcoin', '--currency', 'inr')\n",
    "\n",
    "run_command('show-db')"
   ]
  },
  {
   "cell_type": "code",
   "execution_count": 27,
   "id": "0c58e949",
   "metadata": {},
   "outputs": [
    {
     "data": {
      "text/plain": [
       "'True'"
      ]
     },
     "execution_count": 27,
     "metadata": {},
     "output_type": "execute_result"
    }
   ],
   "source": [
    "str(True)"
   ]
  },
  {
   "cell_type": "code",
   "execution_count": null,
   "id": "515699fd",
   "metadata": {},
   "outputs": [],
   "source": []
  }
 ],
 "metadata": {
  "kernelspec": {
   "display_name": ".venv",
   "language": "python",
   "name": "python3"
  },
  "language_info": {
   "codemirror_mode": {
    "name": "ipython",
    "version": 3
   },
   "file_extension": ".py",
   "mimetype": "text/x-python",
   "name": "python",
   "nbconvert_exporter": "python",
   "pygments_lexer": "ipython3",
   "version": "3.13.3"
  }
 },
 "nbformat": 4,
 "nbformat_minor": 5
}
